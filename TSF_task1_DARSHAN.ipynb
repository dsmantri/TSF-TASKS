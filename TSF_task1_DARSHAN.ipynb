{
  "nbformat": 4,
  "nbformat_minor": 0,
  "metadata": {
    "colab": {
      "name": "TSF task1_DARSHAN.ipynb",
      "provenance": [],
      "collapsed_sections": []
    },
    "kernelspec": {
      "name": "python3",
      "display_name": "Python 3"
    }
  },
  "cells": [
    {
      "cell_type": "code",
      "metadata": {
        "id": "oZSOHmB2z10Y"
      },
      "source": [
        " # PREDICTION USING SUPERVISED MACHINE LEARNING\r\n",
        "# AUTHOR Name :- Darshan Mantri\r\n",
        "# Task 1 :- Predict the percentage of an student based on the no. of study hours."
      ],
      "execution_count": 1,
      "outputs": []
    },
    {
      "cell_type": "code",
      "metadata": {
        "id": "u_Tl0xycrhBt"
      },
      "source": [
        "# Importing all libraries required in predicting the score\r\n",
        "import pandas as pd\r\n",
        "import numpy as np\r\n",
        "import matplotlib.pyplot as plt\r\n",
        "from sklearn.linear_model import LinearRegression\r\n",
        "from sklearn.model_selection import train_test_split"
      ],
      "execution_count": 2,
      "outputs": []
    },
    {
      "cell_type": "code",
      "metadata": {
        "colab": {
          "base_uri": "https://localhost:8080/"
        },
        "id": "lsU82zZQth72",
        "outputId": "d467ddd0-1f50-43d6-eda0-aec95b49fc1b"
      },
      "source": [
        "#Import the data\r\n",
        "data=pd.read_csv(\"http://bit.ly/w-data\")\r\n",
        "print(\"The data is imported successfully\")"
      ],
      "execution_count": 3,
      "outputs": [
        {
          "output_type": "stream",
          "text": [
            "The data is imported successfully\n"
          ],
          "name": "stdout"
        }
      ]
    },
    {
      "cell_type": "code",
      "metadata": {
        "colab": {
          "base_uri": "https://localhost:8080/",
          "height": 284
        },
        "id": "97t9sbW6BA4h",
        "outputId": "1df824ae-95c2-4347-ef20-a4767af400b6"
      },
      "source": [
        "data.describe()"
      ],
      "execution_count": 4,
      "outputs": [
        {
          "output_type": "execute_result",
          "data": {
            "text/html": [
              "<div>\n",
              "<style scoped>\n",
              "    .dataframe tbody tr th:only-of-type {\n",
              "        vertical-align: middle;\n",
              "    }\n",
              "\n",
              "    .dataframe tbody tr th {\n",
              "        vertical-align: top;\n",
              "    }\n",
              "\n",
              "    .dataframe thead th {\n",
              "        text-align: right;\n",
              "    }\n",
              "</style>\n",
              "<table border=\"1\" class=\"dataframe\">\n",
              "  <thead>\n",
              "    <tr style=\"text-align: right;\">\n",
              "      <th></th>\n",
              "      <th>Hours</th>\n",
              "      <th>Scores</th>\n",
              "    </tr>\n",
              "  </thead>\n",
              "  <tbody>\n",
              "    <tr>\n",
              "      <th>count</th>\n",
              "      <td>25.000000</td>\n",
              "      <td>25.000000</td>\n",
              "    </tr>\n",
              "    <tr>\n",
              "      <th>mean</th>\n",
              "      <td>5.012000</td>\n",
              "      <td>51.480000</td>\n",
              "    </tr>\n",
              "    <tr>\n",
              "      <th>std</th>\n",
              "      <td>2.525094</td>\n",
              "      <td>25.286887</td>\n",
              "    </tr>\n",
              "    <tr>\n",
              "      <th>min</th>\n",
              "      <td>1.100000</td>\n",
              "      <td>17.000000</td>\n",
              "    </tr>\n",
              "    <tr>\n",
              "      <th>25%</th>\n",
              "      <td>2.700000</td>\n",
              "      <td>30.000000</td>\n",
              "    </tr>\n",
              "    <tr>\n",
              "      <th>50%</th>\n",
              "      <td>4.800000</td>\n",
              "      <td>47.000000</td>\n",
              "    </tr>\n",
              "    <tr>\n",
              "      <th>75%</th>\n",
              "      <td>7.400000</td>\n",
              "      <td>75.000000</td>\n",
              "    </tr>\n",
              "    <tr>\n",
              "      <th>max</th>\n",
              "      <td>9.200000</td>\n",
              "      <td>95.000000</td>\n",
              "    </tr>\n",
              "  </tbody>\n",
              "</table>\n",
              "</div>"
            ],
            "text/plain": [
              "           Hours     Scores\n",
              "count  25.000000  25.000000\n",
              "mean    5.012000  51.480000\n",
              "std     2.525094  25.286887\n",
              "min     1.100000  17.000000\n",
              "25%     2.700000  30.000000\n",
              "50%     4.800000  47.000000\n",
              "75%     7.400000  75.000000\n",
              "max     9.200000  95.000000"
            ]
          },
          "metadata": {
            "tags": []
          },
          "execution_count": 4
        }
      ]
    },
    {
      "cell_type": "code",
      "metadata": {
        "colab": {
          "base_uri": "https://localhost:8080/",
          "height": 295
        },
        "id": "QfnhHtlrtvIA",
        "outputId": "fdee5535-3bb5-49b7-f2aa-0da64e772195"
      },
      "source": [
        "#Plotting the distribution of scores\r\n",
        "#DATA VISUALIZATION\r\n",
        "data.plot(x='Hours', y='Scores', style='o')  \r\n",
        "plt.title('Result Graph')  \r\n",
        "plt.xlabel('Study hours')  \r\n",
        "plt.ylabel('Percentage Scored')  \r\n",
        "plt.show()"
      ],
      "execution_count": 5,
      "outputs": [
        {
          "output_type": "display_data",
          "data": {
            "image/png": "[encoded data removed]",
            "text/plain": [
              "<Figure size 432x288 with 1 Axes>"
            ]
          },
          "metadata": {
            "tags": [],
            "needs_background": "light"
          }
        }
      ]
    },
    {
      "cell_type": "code",
      "metadata": {
        "id": "iHPYPPjmub5r"
      },
      "source": [
        "#Splitting training and testing data\r\n",
        "x=data.iloc[:,:-1].values\r\n",
        "y=data.iloc[:,1].values\r\n",
        "x_train, x_test, y_train, y_test= train_test_split(x, y,train_size=0.80,test_size=0.20,random_state=0)"
      ],
      "execution_count": 6,
      "outputs": []
    },
    {
      "cell_type": "code",
      "metadata": {
        "id": "48lYWy3cvdl7"
      },
      "source": [
        "linearRegress= LinearRegression()\r\n",
        "linearRegress.fit(x_train, y_train)\r\n",
        "y_predict= linearRegress.predict(x_train)"
      ],
      "execution_count": 7,
      "outputs": []
    },
    {
      "cell_type": "code",
      "metadata": {
        "colab": {
          "base_uri": "https://localhost:8080/",
          "height": 282
        },
        "id": "J5M2B-3Svph4",
        "outputId": "bd40ec87-454b-4fad-f0d9-012ee6ca0fa5"
      },
      "source": [
        "#After spliting of our data into training and testing sets is done we will train our algo\r\n",
        "regressor = LinearRegression()  \r\n",
        "regressor.fit(x_train, y_train) \r\n",
        "\r\n",
        "print(\"Training complete.\")\r\n",
        "\r\n",
        "# Plotting the regression line\r\n",
        "line = regressor.coef_*x+regressor.intercept_\r\n",
        "# Plotting for the test data\r\n",
        "plt.scatter(x, y)\r\n",
        "plt.plot(x, line);\r\n",
        "plt.show()"
      ],
      "execution_count": 8,
      "outputs": [
        {
          "output_type": "stream",
          "text": [
            "Training complete.\n"
          ],
          "name": "stdout"
        },
        {
          "output_type": "display_data",
          "data": {
            "image/png": "[encoded data removed]",
            "text/plain": [
              "<Figure size 432x288 with 1 Axes>"
            ]
          },
          "metadata": {
            "tags": [],
            "needs_background": "light"
          }
        }
      ]
    },
    {
      "cell_type": "code",
      "metadata": {
        "colab": {
          "base_uri": "https://localhost:8080/"
        },
        "id": "pjQDDc8Ev9vQ",
        "outputId": "e051dc50-6d19-4cbc-d31d-a6ef7fc077f5"
      },
      "source": [
        "#the accuracy score for training and test set\r\n",
        "print('Test Score')\r\n",
        "print(regressor.score(x_test, y_test))\r\n",
        "print('Training Score')\r\n",
        "print(regressor.score(x_train, y_train))"
      ],
      "execution_count": 9,
      "outputs": [
        {
          "output_type": "stream",
          "text": [
            "Test Score\n",
            "0.9454906892105354\n",
            "Training Score\n",
            "0.9515510725211553\n"
          ],
          "name": "stdout"
        }
      ]
    },
    {
      "cell_type": "code",
      "metadata": {
        "colab": {
          "base_uri": "https://localhost:8080/"
        },
        "id": "l95UgnMzwYJR",
        "outputId": "4a7ea6bd-2644-4191-86da-51af22b4c18d"
      },
      "source": [
        "#Let's predict the score for 9.25 hour\r\n",
        "print('Score of student who studied for 9.25 hours a day', regressor.predict([[9.25]]))"
      ],
      "execution_count": 10,
      "outputs": [
        {
          "output_type": "stream",
          "text": [
            "Score of student who studied for 9.25 hours a day [93.69173249]\n"
          ],
          "name": "stdout"
        }
      ]
    }
  ]
}